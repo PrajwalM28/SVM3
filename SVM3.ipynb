{
 "cells": [
  {
   "cell_type": "markdown",
   "id": "b19d2bb7-524e-4d8a-b980-13543f742f4a",
   "metadata": {},
   "source": [
    "# Q1."
   ]
  },
  {
   "cell_type": "markdown",
   "id": "9e4bbb2c-084f-4b1e-84ff-918648b50d94",
   "metadata": {},
   "source": [
    "-  would likely be Mean Absolute Error (MAE) or Mean Squared Error (MSE). These metrics provide insights into how close the predicted prices are to the actual prices in terms of absolute differences or squared differences"
   ]
  },
  {
   "cell_type": "markdown",
   "id": "51ecc0e8-7c8c-41de-bbd3-d22fea5cde2e",
   "metadata": {
    "tags": []
   },
   "source": [
    "# Q2.\n",
    "### You have built an SVM regression model and are trying to decide between using MSE or R-squared as your evaluation metric. Which metric would be more appropriate if your goal is to predict the actual price of a house as accurately as possible?"
   ]
  },
  {
   "cell_type": "markdown",
   "id": "a8c59bb8-5582-4577-b82d-000ce6073aac",
   "metadata": {},
   "source": [
    "-  Mean Squared Error (MSE) would be more appropriate as the evaluation metric. MSE penalizes large errors more heavily than smaller errors, making it suitable for assessing accuracy in predicting continuous variables like house prices."
   ]
  },
  {
   "cell_type": "markdown",
   "id": "a40e4662-90c6-47ae-93aa-d5273896c735",
   "metadata": {},
   "source": [
    "# Q3.\n",
    "###  You have a dataset with a significant number of outliers and are trying to select an appropriate regression metric to use with your SVM model. Which metric would be the most appropriate in this scenario?"
   ]
  },
  {
   "cell_type": "markdown",
   "id": "9b29bbb4-f1b8-4032-86f9-e26f13ad0f01",
   "metadata": {},
   "source": [
    "- Mean Absolute Error (MAE) would be the most appropriate regression metric to use with your SVM model. MAE is less sensitive to outliers compared to Mean Squared Error (MSE) since it computes the average of the absolute errors"
   ]
  },
  {
   "cell_type": "markdown",
   "id": "d07da39d-879f-4e76-88e3-8c92507e1005",
   "metadata": {},
   "source": [
    "# Q4.\n",
    "### You have built an SVM regression model using a polynomial kernel and are trying to select the best metric to evaluate its performance. You have calculated both MSE and RMSE and found that both values are very close. Which metric should you choose to use in this case?"
   ]
  },
  {
   "cell_type": "markdown",
   "id": "542526e6-2ca4-41a0-bafe-2195d19e2056",
   "metadata": {},
   "source": [
    "- it's generally preferable to use RMSE. RMSE is the square root of MSE and is expressed in the same units as the target variable, making it more interpretable. Additionally, RMSE gives higher weight to larger errors due to the squaring operation, which can be advantageous for identifying significant discrepancies."
   ]
  },
  {
   "cell_type": "markdown",
   "id": "f37c0c4c-7fe2-4b16-a95e-c21b1c5cf06a",
   "metadata": {},
   "source": [
    "# Q5.\n",
    "###  You are comparing the performance of different SVM regression models using different kernels (linear, polynomial, and RBF) and are trying to select the best evaluation metric. Which metric would be most appropriate if your goal is to measure how well the model explains the variance in the target variable?"
   ]
  },
  {
   "cell_type": "markdown",
   "id": "f5fa97e2-08f1-4775-898c-a8c553a23251",
   "metadata": {},
   "source": [
    "-  R-squared (coefficient of determination) would be the most appropriate evaluation metric. R-squared measures the proportion of the variance in the dependent variable that is predictable from the independent variables. It provides an indication of the goodness of fit of the model, with higher values indicating a better fit and greater explanatory power."
   ]
  }
 ],
 "metadata": {
  "kernelspec": {
   "display_name": "Python 3 (ipykernel)",
   "language": "python",
   "name": "python3"
  },
  "language_info": {
   "codemirror_mode": {
    "name": "ipython",
    "version": 3
   },
   "file_extension": ".py",
   "mimetype": "text/x-python",
   "name": "python",
   "nbconvert_exporter": "python",
   "pygments_lexer": "ipython3",
   "version": "3.10.8"
  }
 },
 "nbformat": 4,
 "nbformat_minor": 5
}
